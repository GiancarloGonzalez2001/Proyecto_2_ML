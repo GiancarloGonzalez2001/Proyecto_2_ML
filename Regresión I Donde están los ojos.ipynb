{
 "cells": [
  {
   "cell_type": "markdown",
   "metadata": {},
   "source": [
    "# Regresión I: ¿Donde estan los ojos?\n",
    "\n",
    "Muchos de los sistemas de reconocimiento de personas por medio de imagenes utilizan la ubicación de puntos importantes en la cara, con el objetivo de identificar la ubicación del rostro. Algunos puntos importantes son los ojos, la nariz y la boca, a partir de ellos es posible definir las coordenadas entre las cuales se encuentra ubicada la cara de la persona. El profesor Alexander siempre ha tenido una gran fascinadción por estos sistemas, y dado que sus estudiantes ya saben como trabajar con redes neuronales, él ha decidido que ellos realicen un sistemas de identificación de la ubicación de los ojos a partir de imagenes.\n",
    "\n",
    "Para la realización de este proyecto el estudiante debera:\n",
    "\n",
    "1. Crear una base de datos con fotografias donde diferentes personas, y en cada una de estas se debe generar un elemento que identifique la ubicación de los ojos. Aqui debe tener en cuenta dos cosas:\n",
    "    * Tenga en cuenta que una red aprende con base en la información que le proporcionemos, asi que al crear la base de datos tenga en cuenta todas las posibilidades que se imaginen de como podrian estar esas fotos.\n",
    "    * Si tenemos imagenes muy grandes esto requerira de una red muy grande que puede tardar mucho tiempo en entrenar. Tenga en cuenta esto por si es necesario procesar las imagenes antes de ingresarlas a la red.   \n",
    "2. Definir las arquitecturas de red que debe probar.\n",
    "3. Escoger la red que mejor se desempeñe.\n",
    "4. Evaluar el rendimiento de la red.\n",
    "\n",
    "\n",
    "Tenga en cuenta que todo el procedimiento debe ser lo mas amigable para probar. Es decir si el profesor Alexander quiere probar una foto, entonces él solo deberia ingresar la foto en una función la cual se encargue de hacer todo el procesamiento y proporcionar como salida la posición de los ojos en la imágen.\n",
    "\n",
    "Además el profesor quiere que contesten las siguientes preguntas:\n",
    "\n",
    "1. ¿Qué puede concluir del comportamiento de la red y los datos proporcionados?\n",
    "2. ¿Qué criterio utilizo para seleccionar la arquitectura de la red?\n",
    "3. ¿Tiene la red el comportamiento esperado?, sino, ¿A qué cree que se debe esto?\n",
    "4. ¿Qué le mejoraria al modelo que usted diseño?, ¿Cómo implementaría esas mejoras?"
   ]
  },
  {
   "cell_type": "code",
   "execution_count": 111,
   "metadata": {},
   "outputs": [],
   "source": [
    "import numpy as np           # Esta libreria se utiliza para realizar operaciones matemáticas y para manejar arreglos\n",
    "from xml.dom import minidom  # Esta libreria se utiliza para leer archivos xml\n",
    "from imutils import paths    # Esta libreria se utiliza para ni mondada porque no funciona con xml\n",
    "import glob                  # Esta libreria se importa para guardar todo el conjunto de archivos xml\n",
    "import cv2                   # Esta libreria \n",
    "import matplotlib.pyplot as plt\n",
    "import matplotlib.image as img # Esta libreria sirve para transformar las imagines en grises FALLO 2\n",
    "from skimage import io       # Esta libreria sirve para transformar las imagines en grises FALLO 1\n",
    "from PIL import Image        # Esta libreria sirve para transformar las imagines en grises FALLO 3"
   ]
  },
  {
   "cell_type": "markdown",
   "metadata": {},
   "source": [
    "Vamos a normalizar tanto los datos de entrada que son las imagenes como los datos de salida (y) que son las posiciones de los ojos y luego se va a modificar el tamaño de las imagenes con resample image."
   ]
  },
  {
   "cell_type": "code",
   "execution_count": 119,
   "metadata": {},
   "outputs": [
    {
     "name": "stdout",
     "output_type": "stream",
     "text": [
      "Dimensiones de y: (70, 4)\n"
     ]
    }
   ],
   "source": [
    "'''\n",
    "De esta forma se leen los archivos xml  de esta dirección\n",
    "doc = minidom.parse('C:/Users/HOGAR (JOSE)/Desktop/U/2021-2/Aprendizaje automático de Maquinas/Tareas/Proyecto II final/Donde estan los ojos/train/real_00001.xml')\n",
    "\n",
    "De esta forma se leen los archivos de una manera más simple\n",
    "doc = minidom.parse('train_labels/real_00001.xml')\n",
    "'''\n",
    "\n",
    "# Guarda todos los archivos xml en una lista\n",
    "xml_list = []\n",
    "for filename in glob.glob('train_labels/*.xml'): \n",
    "    im = minidom.parse(filename)\n",
    "    xml_list.append(im)\n",
    "\n",
    "# Se crea una lista con los valores de las y esperada\n",
    "y = []\n",
    "for xml in xml_list:\n",
    "    y_1 = []\n",
    "    xmin = xml.getElementsByTagName(\"xmin\")[0]\n",
    "    y_1.append(int(xmin.firstChild.data)/600)    # Se normalizan los datos dividiendolos por el máximo (600)\n",
    "    ymin = xml.getElementsByTagName(\"ymin\")[0]\n",
    "    y_1.append(int(ymin.firstChild.data)/600)\n",
    "    xmax = xml.getElementsByTagName(\"xmax\")[0]\n",
    "    y_1.append(int(xmax.firstChild.data)/600)\n",
    "    ymax = xml.getElementsByTagName(\"ymax\")[0]\n",
    "    y_1.append(int(ymax.firstChild.data)/600)\n",
    "    y.append(y_1)\n",
    "    \n",
    "# Se transforma la lista en array\n",
    "y = np.array(y)\n",
    "print('Dimensiones de y:',y.shape)"
   ]
  },
  {
   "cell_type": "markdown",
   "metadata": {},
   "source": [
    "Ahora se leeran las imagenes de entrenamiento y se transformaran a escala de grises."
   ]
  },
  {
   "cell_type": "code",
   "execution_count": 149,
   "metadata": {},
   "outputs": [
    {
     "name": "stdout",
     "output_type": "stream",
     "text": [
      "train/real_00002.jpg\n",
      "shape :  (600, 600, 3)\n"
     ]
    },
    {
     "data": {
      "image/png": "[encoded data removed]",
      "text/plain": [
       "<Figure size 432x288 with 1 Axes>"
      ]
     },
     "metadata": {
      "needs_background": "light"
     },
     "output_type": "display_data"
    },
    {
     "name": "stdout",
     "output_type": "stream",
     "text": [
      "shape twooo  (600, 600)\n"
     ]
    },
    {
     "data": {
      "image/png": "[encoded data removed]",
      "text/plain": [
       "<Figure size 432x288 with 1 Axes>"
      ]
     },
     "metadata": {
      "needs_background": "light"
     },
     "output_type": "display_data"
    },
    {
     "name": "stdout",
     "output_type": "stream",
     "text": [
      "shape treess (60, 60)\n"
     ]
    }
   ],
   "source": [
    "#Obtener el path de cada imágen en el dataset\n",
    "im_paths = list(paths.list_images('train/')) \n",
    "img1 = cv2.imread(im_paths[1])\n",
    "print(im_paths[1])\n",
    "print('shape : ',img1.shape)\n",
    "\n",
    "\n",
    "\n",
    "image=Image.open(im_paths[1])\n",
    "gray_image=image.convert('L')\n",
    "gray_image_array=np.asarray(gray_image)\n",
    "gray_image_array = gray_image_array.astype('float32')/255\n",
    "plt.imshow(gray_image_array,cmap='gray', vmin = 0, vmax = 255)\n",
    "plt.show()\n",
    "\n",
    "print('shape twooo ',gray_image_array.shape)\n",
    "#print(gray_image_array)\n",
    "\n",
    "newImg = cv2.resize(gray_image_array, (0,0), fx=0.1, fy=0.1)\n",
    "\n",
    "plt.imshow(newImg,cmap='gray')\n",
    "plt.show()\n",
    "\n",
    "print('shape treess', newImg.shape)\n",
    "\n"
   ]
  },
  {
   "cell_type": "code",
   "execution_count": null,
   "metadata": {},
   "outputs": [],
   "source": [
    "#Obtener el path de cada imágen en el dataset\n",
    "im_paths = list(paths.list_images('train/')) \n",
    "img1 = cv2.imread(im_paths[1])\n",
    "\n",
    "\n",
    "image=Image.open(im_paths[1])\n",
    "gray_image=image.convert('L')\n",
    "gray_image_array=np.asarray(gray_image)\n",
    "plt.imshow(gray_image_array,cmap='gray', vmin = 0, vmax = 255)\n",
    "plt.show()\n",
    "\n",
    "gray_image_array.shape\n",
    "print(gray_image_array)"
   ]
  },
  {
   "cell_type": "code",
   "execution_count": null,
   "metadata": {},
   "outputs": [],
   "source": []
  }
 ],
 "metadata": {
  "kernelspec": {
   "display_name": "Python 3",
   "language": "python",
   "name": "python3"
  },
  "language_info": {
   "codemirror_mode": {
    "name": "ipython",
    "version": 3
   },
   "file_extension": ".py",
   "mimetype": "text/x-python",
   "name": "python",
   "nbconvert_exporter": "python",
   "pygments_lexer": "ipython3",
   "version": "3.8.5"
  }
 },
 "nbformat": 4,
 "nbformat_minor": 2
}
