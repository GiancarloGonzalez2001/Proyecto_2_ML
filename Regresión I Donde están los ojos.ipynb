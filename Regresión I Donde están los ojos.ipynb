{
 "cells": [
  {
   "cell_type": "markdown",
   "metadata": {},
   "source": [
    "# Regresión I: ¿Donde estan los ojos?\n",
    "\n",
    "Muchos de los sistemas de reconocimiento de personas por medio de imagenes utilizan la ubicación de puntos importantes en la cara, con el objetivo de identificar la ubicación del rostro. Algunos puntos importantes son los ojos, la nariz y la boca, a partir de ellos es posible definir las coordenadas entre las cuales se encuentra ubicada la cara de la persona. El profesor Alexander siempre ha tenido una gran fascinadción por estos sistemas, y dado que sus estudiantes ya saben como trabajar con redes neuronales, él ha decidido que ellos realicen un sistemas de identificación de la ubicación de los ojos a partir de imagenes.\n",
    "\n",
    "Para la realización de este proyecto el estudiante debera:\n",
    "\n",
    "1. Crear una base de datos con fotografias donde diferentes personas, y en cada una de estas se debe generar un elemento que identifique la ubicación de los ojos. Aqui debe tener en cuenta dos cosas:\n",
    "    * Tenga en cuenta que una red aprende con base en la información que le proporcionemos, asi que al crear la base de datos tenga en cuenta todas las posibilidades que se imaginen de como podrian estar esas fotos.\n",
    "    * Si tenemos imagenes muy grandes esto requerira de una red muy grande que puede tardar mucho tiempo en entrenar. Tenga en cuenta esto por si es necesario procesar las imagenes antes de ingresarlas a la red.   \n",
    "2. Definir las arquitecturas de red que debe probar.\n",
    "3. Escoger la red que mejor se desempeñe.\n",
    "4. Evaluar el rendimiento de la red.\n",
    "\n",
    "\n",
    "Tenga en cuenta que todo el procedimiento debe ser lo mas amigable para probar. Es decir si el profesor Alexander quiere probar una foto, entonces él solo deberia ingresar la foto en una función la cual se encargue de hacer todo el procesamiento y proporcionar como salida la posición de los ojos en la imágen.\n",
    "\n",
    "Además el profesor quiere que contesten las siguientes preguntas:\n",
    "\n",
    "1. ¿Qué puede concluir del comportamiento de la red y los datos proporcionados?\n",
    "2. ¿Qué criterio utilizo para seleccionar la arquitectura de la red?\n",
    "3. ¿Tiene la red el comportamiento esperado?, sino, ¿A qué cree que se debe esto?\n",
    "4. ¿Qué le mejoraria al modelo que usted diseño?, ¿Cómo implementaría esas mejoras?"
   ]
  },
  {
   "cell_type": "code",
   "execution_count": 31,
   "metadata": {},
   "outputs": [],
   "source": [
    "import numpy as np           # Esta libreria se utiliza para realizar operaciones matemáticas y para manejar arreglos\n",
    "from xml.dom import minidom  # Esta libreria se utiliza para leer archivos xml\n",
    "from imutils import paths    # Esta libreria se utiliza para ni mondada porque no funciona con xml\n",
    "import glob                  # Esta libreria se importa para guardar todo el conjunto de archivos xml\n",
    "import cv2                   # Esta libreria \n",
    "import matplotlib.pyplot as plt\n",
    "import matplotlib.image as img # Esta libreria sirve para transformar las imagines en grises FALLO 2\n",
    "from skimage import io       # Esta libreria sirve para transformar las imagines en grises FALLO 1\n",
    "from PIL import Image        # Esta libreria sirve para transformar las imagines en grises FALLO 3\n",
    "import matplotlib.patches as patches\n",
    "from keras import models\n",
    "from keras import layers"
   ]
  },
  {
   "cell_type": "markdown",
   "metadata": {},
   "source": [
    "Vamos a normalizar tanto los datos de entrada que son las imagenes como los datos de salida (y) que son las posiciones de los ojos y luego se va a modificar el tamaño de las imagenes con resample image."
   ]
  },
  {
   "cell_type": "code",
   "execution_count": 72,
   "metadata": {},
   "outputs": [
    {
     "name": "stdout",
     "output_type": "stream",
     "text": [
      "Dimensiones de y: (70, 4)\n"
     ]
    }
   ],
   "source": [
    "'''\n",
    "De esta forma se leen los archivos xml  de esta dirección\n",
    "doc = minidom.parse('C:/Users/HOGAR (JOSE)/Desktop/U/2021-2/Aprendizaje automático de Maquinas/Tareas/Proyecto II final/Donde estan los ojos/train/real_00001.xml')\n",
    "\n",
    "De esta forma se leen los archivos de una manera más simple\n",
    "doc = minidom.parse('train_labels/real_00001.xml')\n",
    "'''\n",
    "\n",
    "# Guarda todos los archivos xml en una lista\n",
    "xml_list = []\n",
    "for filename in glob.glob('train_labels/*.xml'): \n",
    "    im = minidom.parse(filename)\n",
    "    xml_list.append(im)\n",
    "\n",
    "# Se crea una lista con los valores de las y esperada\n",
    "y = []\n",
    "for xml in xml_list:\n",
    "    y_1 = []\n",
    "    xmin = xml.getElementsByTagName(\"xmin\")[0]\n",
    "    y_1.append(int(xmin.firstChild.data)/600)    # Se normalizan los datos dividiendolos por el máximo (600)\n",
    "    ymin = xml.getElementsByTagName(\"ymin\")[0]\n",
    "    y_1.append(int(ymin.firstChild.data)/600)\n",
    "    xmax = xml.getElementsByTagName(\"xmax\")[0]\n",
    "    y_1.append(int(xmax.firstChild.data)/600)\n",
    "    ymax = xml.getElementsByTagName(\"ymax\")[0]\n",
    "    y_1.append(int(ymax.firstChild.data)/600)\n",
    "    y.append(y_1)\n",
    "    \n",
    "# Se transforma la lista en array\n",
    "y = np.array(y)\n",
    "print('Dimensiones de y:',y.shape)"
   ]
  },
  {
   "cell_type": "markdown",
   "metadata": {},
   "source": [
    "Ahora se leeran las imagenes de entrenamiento y se transformaran a escala de grises."
   ]
  },
  {
   "cell_type": "code",
   "execution_count": 51,
   "metadata": {
    "scrolled": true
   },
   "outputs": [
    {
     "name": "stdout",
     "output_type": "stream",
     "text": [
      "(70, 3600)\n"
     ]
    }
   ],
   "source": [
    "#Obtener el path de cada imágen en el dataset\n",
    "im_paths = list(paths.list_images('train/')) \n",
    "def train_func(path_list):\n",
    "    train_list=[]\n",
    "    for m in path_list:\n",
    "        image=Image.open(m)   # abrimoslaimagen a travez del path \n",
    "        gray_image=image.convert('L')    # loconvertimosa escala de grises \n",
    "        gray_image_array=np.asarray(gray_image)   # imagen a tipo array\n",
    "        gray_image_array = gray_image_array.astype('float32')/255  # normalizamos   \n",
    "        gray_image_array = cv2.resize(gray_image_array, (0,0), fx=0.1, fy=0.1)    # cambiamos el tamaño de la imagen \n",
    "        train_list.append(gray_image_array)\n",
    "    train_list=np.array(train_list)\n",
    "    return train_list\n",
    "\n",
    "train_data=train_func(im_paths)\n",
    "train_data=train_data.reshape((train_data.shape[0],60*60))\n",
    "print(train_data.shape)"
   ]
  },
  {
   "cell_type": "markdown",
   "metadata": {},
   "source": [
    "Creamos la red neuronal para regresion"
   ]
  },
  {
   "cell_type": "code",
   "execution_count": 75,
   "metadata": {},
   "outputs": [],
   "source": [
    "model = models.Sequential()\n",
    "model.add(layers.Dense(3000,activation = 'relu',         #Funcion de activacion relu\n",
    "                       input_shape=(train_data.shape[1],))) # numeor de variables de entrada \n",
    "model.add(layers.Dense(1000,activation = 'relu'))\n",
    "model.add(layers.Dense(500,activation = 'relu'))\n",
    "model.add(layers.Dense(100,activation = 'relu'))\n",
    "model.add(layers.Dense(50,activation = 'relu'))\n",
    "model.add(layers.Dense(4,activation = 'sigmoid')) # salida una neurona \n",
    "model.compile(optimizer='rmsprop', loss='mse', metrics=['mae'])\n",
    "# optimizer: puede ser adam que muy bueno \n",
    "# mse: error cuadratico medio porque es de regresion \n",
    "# mae: error minimo absoluto promedio de la resta del abs entre y estimado y observado , puede ser tambien mse"
   ]
  },
  {
   "cell_type": "code",
   "execution_count": 76,
   "metadata": {
    "scrolled": true
   },
   "outputs": [
    {
     "name": "stdout",
     "output_type": "stream",
     "text": [
      "Epoch 1/70\n",
      "1/1 [==============================] - 4s 4s/step - loss: 0.0575 - mae: 0.2036 - val_loss: 0.1457 - val_mae: 0.3526\n",
      "Epoch 2/70\n",
      "1/1 [==============================] - 1s 869ms/step - loss: 0.1470 - mae: 0.3560 - val_loss: 0.1457 - val_mae: 0.3526\n",
      "Epoch 3/70\n",
      "1/1 [==============================] - 1s 872ms/step - loss: 0.1470 - mae: 0.3560 - val_loss: 0.1457 - val_mae: 0.3526\n",
      "Epoch 4/70\n",
      "1/1 [==============================] - 1s 910ms/step - loss: 0.1470 - mae: 0.3560 - val_loss: 0.1457 - val_mae: 0.3526\n",
      "Epoch 5/70\n",
      "1/1 [==============================] - 1s 915ms/step - loss: 0.1470 - mae: 0.3560 - val_loss: 0.1457 - val_mae: 0.3526\n",
      "Epoch 6/70\n",
      "1/1 [==============================] - 1s 883ms/step - loss: 0.1470 - mae: 0.3560 - val_loss: 0.1457 - val_mae: 0.3526\n",
      "Epoch 7/70\n",
      "1/1 [==============================] - 1s 887ms/step - loss: 0.1470 - mae: 0.3560 - val_loss: 0.1457 - val_mae: 0.3526\n",
      "Epoch 8/70\n",
      "1/1 [==============================] - 1s 1s/step - loss: 0.1470 - mae: 0.3560 - val_loss: 0.1457 - val_mae: 0.3526\n",
      "Epoch 9/70\n",
      "1/1 [==============================] - 1s 857ms/step - loss: 0.1470 - mae: 0.3560 - val_loss: 0.1457 - val_mae: 0.3526\n",
      "Epoch 10/70\n",
      "1/1 [==============================] - 1s 1s/step - loss: 0.1470 - mae: 0.3560 - val_loss: 0.1457 - val_mae: 0.3526\n",
      "Epoch 11/70\n",
      "1/1 [==============================] - 1s 1s/step - loss: 0.1470 - mae: 0.3560 - val_loss: 0.1457 - val_mae: 0.3526\n",
      "Epoch 12/70\n",
      "1/1 [==============================] - 1s 1s/step - loss: 0.1470 - mae: 0.3560 - val_loss: 0.1457 - val_mae: 0.3526\n",
      "Epoch 13/70\n",
      "1/1 [==============================] - 1s 1s/step - loss: 0.1470 - mae: 0.3560 - val_loss: 0.1457 - val_mae: 0.3526\n",
      "Epoch 14/70\n",
      "1/1 [==============================] - 1s 1s/step - loss: 0.1470 - mae: 0.3560 - val_loss: 0.1457 - val_mae: 0.3526\n",
      "Epoch 15/70\n",
      "1/1 [==============================] - 1s 980ms/step - loss: 0.1470 - mae: 0.3560 - val_loss: 0.1457 - val_mae: 0.3526\n",
      "Epoch 16/70\n",
      "1/1 [==============================] - 1s 986ms/step - loss: 0.1470 - mae: 0.3560 - val_loss: 0.1457 - val_mae: 0.3526\n",
      "Epoch 17/70\n",
      "1/1 [==============================] - 1s 1s/step - loss: 0.1470 - mae: 0.3560 - val_loss: 0.1457 - val_mae: 0.3526\n",
      "Epoch 18/70\n",
      "1/1 [==============================] - 2s 2s/step - loss: 0.1470 - mae: 0.3560 - val_loss: 0.1457 - val_mae: 0.3526\n",
      "Epoch 19/70\n",
      "1/1 [==============================] - 1s 1s/step - loss: 0.1470 - mae: 0.3560 - val_loss: 0.1457 - val_mae: 0.3526\n",
      "Epoch 20/70\n",
      "1/1 [==============================] - 1s 870ms/step - loss: 0.1470 - mae: 0.3560 - val_loss: 0.1457 - val_mae: 0.3526\n",
      "Epoch 21/70\n",
      "1/1 [==============================] - 1s 830ms/step - loss: 0.1470 - mae: 0.3560 - val_loss: 0.1457 - val_mae: 0.3526\n",
      "Epoch 22/70\n",
      "1/1 [==============================] - 1s 1s/step - loss: 0.1470 - mae: 0.3560 - val_loss: 0.1457 - val_mae: 0.3526\n",
      "Epoch 23/70\n",
      "1/1 [==============================] - 2s 2s/step - loss: 0.1470 - mae: 0.3560 - val_loss: 0.1457 - val_mae: 0.3526\n",
      "Epoch 24/70\n",
      "1/1 [==============================] - 2s 2s/step - loss: 0.1470 - mae: 0.3560 - val_loss: 0.1457 - val_mae: 0.3526\n",
      "Epoch 25/70\n",
      "1/1 [==============================] - 1s 1s/step - loss: 0.1470 - mae: 0.3560 - val_loss: 0.1457 - val_mae: 0.3526\n",
      "Epoch 26/70\n",
      "1/1 [==============================] - 1s 935ms/step - loss: 0.1470 - mae: 0.3560 - val_loss: 0.1457 - val_mae: 0.3526\n",
      "Epoch 27/70\n",
      "1/1 [==============================] - 1s 1s/step - loss: 0.1470 - mae: 0.3560 - val_loss: 0.1457 - val_mae: 0.3526\n",
      "Epoch 28/70\n",
      "1/1 [==============================] - 1s 848ms/step - loss: 0.1470 - mae: 0.3560 - val_loss: 0.1457 - val_mae: 0.3526\n",
      "Epoch 29/70\n",
      "1/1 [==============================] - 1s 1s/step - loss: 0.1470 - mae: 0.3560 - val_loss: 0.1457 - val_mae: 0.3526\n",
      "Epoch 30/70\n",
      "1/1 [==============================] - 1s 1s/step - loss: 0.1470 - mae: 0.3560 - val_loss: 0.1457 - val_mae: 0.3526\n",
      "Epoch 31/70\n",
      "1/1 [==============================] - 1s 836ms/step - loss: 0.1470 - mae: 0.3560 - val_loss: 0.1457 - val_mae: 0.3526\n",
      "Epoch 32/70\n",
      "1/1 [==============================] - 1s 1s/step - loss: 0.1470 - mae: 0.3560 - val_loss: 0.1457 - val_mae: 0.3526\n",
      "Epoch 33/70\n",
      "1/1 [==============================] - 1s 1s/step - loss: 0.1470 - mae: 0.3560 - val_loss: 0.1457 - val_mae: 0.3526\n",
      "Epoch 34/70\n",
      "1/1 [==============================] - 1s 1s/step - loss: 0.1470 - mae: 0.3560 - val_loss: 0.1457 - val_mae: 0.3526\n",
      "Epoch 35/70\n",
      "1/1 [==============================] - 1s 1s/step - loss: 0.1470 - mae: 0.3560 - val_loss: 0.1457 - val_mae: 0.3526\n",
      "Epoch 36/70\n",
      "1/1 [==============================] - 1s 857ms/step - loss: 0.1470 - mae: 0.3560 - val_loss: 0.1457 - val_mae: 0.3526\n",
      "Epoch 37/70\n",
      "1/1 [==============================] - 1s 867ms/step - loss: 0.1470 - mae: 0.3560 - val_loss: 0.1457 - val_mae: 0.3526\n",
      "Epoch 38/70\n",
      "1/1 [==============================] - 1s 833ms/step - loss: 0.1470 - mae: 0.3560 - val_loss: 0.1457 - val_mae: 0.3526\n",
      "Epoch 39/70\n",
      "1/1 [==============================] - 1s 1s/step - loss: 0.1470 - mae: 0.3560 - val_loss: 0.1457 - val_mae: 0.3526\n",
      "Epoch 40/70\n",
      "1/1 [==============================] - 1s 703ms/step - loss: 0.1470 - mae: 0.3560 - val_loss: 0.1457 - val_mae: 0.3526\n",
      "Epoch 41/70\n",
      "1/1 [==============================] - 1s 884ms/step - loss: 0.1470 - mae: 0.3560 - val_loss: 0.1457 - val_mae: 0.3526\n",
      "Epoch 42/70\n",
      "1/1 [==============================] - 1s 817ms/step - loss: 0.1470 - mae: 0.3560 - val_loss: 0.1457 - val_mae: 0.3526\n",
      "Epoch 43/70\n",
      "1/1 [==============================] - 1s 1s/step - loss: 0.1470 - mae: 0.3560 - val_loss: 0.1457 - val_mae: 0.3526\n",
      "Epoch 44/70\n",
      "1/1 [==============================] - 1s 1s/step - loss: 0.1470 - mae: 0.3560 - val_loss: 0.1457 - val_mae: 0.3526\n",
      "Epoch 45/70\n",
      "1/1 [==============================] - 1s 883ms/step - loss: 0.1470 - mae: 0.3560 - val_loss: 0.1457 - val_mae: 0.3526\n",
      "Epoch 46/70\n",
      "1/1 [==============================] - 1s 806ms/step - loss: 0.1470 - mae: 0.3560 - val_loss: 0.1457 - val_mae: 0.3526\n",
      "Epoch 47/70\n",
      "1/1 [==============================] - 1s 1s/step - loss: 0.1470 - mae: 0.3560 - val_loss: 0.1457 - val_mae: 0.3526\n",
      "Epoch 48/70\n",
      "1/1 [==============================] - 1s 1s/step - loss: 0.1470 - mae: 0.3560 - val_loss: 0.1457 - val_mae: 0.3526\n",
      "Epoch 49/70\n",
      "1/1 [==============================] - 1s 954ms/step - loss: 0.1470 - mae: 0.3560 - val_loss: 0.1457 - val_mae: 0.3526\n",
      "Epoch 50/70\n",
      "1/1 [==============================] - 1s 811ms/step - loss: 0.1470 - mae: 0.3560 - val_loss: 0.1457 - val_mae: 0.3526\n",
      "Epoch 51/70\n",
      "1/1 [==============================] - 1s 654ms/step - loss: 0.1470 - mae: 0.3560 - val_loss: 0.1457 - val_mae: 0.3526\n",
      "Epoch 52/70\n",
      "1/1 [==============================] - 1s 677ms/step - loss: 0.1470 - mae: 0.3560 - val_loss: 0.1457 - val_mae: 0.3526\n",
      "Epoch 53/70\n",
      "1/1 [==============================] - 1s 690ms/step - loss: 0.1470 - mae: 0.3560 - val_loss: 0.1457 - val_mae: 0.3526\n",
      "Epoch 54/70\n",
      "1/1 [==============================] - 1s 694ms/step - loss: 0.1470 - mae: 0.3560 - val_loss: 0.1457 - val_mae: 0.3526\n",
      "Epoch 55/70\n",
      "1/1 [==============================] - 1s 679ms/step - loss: 0.1470 - mae: 0.3560 - val_loss: 0.1457 - val_mae: 0.3526\n",
      "Epoch 56/70\n",
      "1/1 [==============================] - 1s 677ms/step - loss: 0.1470 - mae: 0.3560 - val_loss: 0.1457 - val_mae: 0.3526\n",
      "Epoch 57/70\n",
      "1/1 [==============================] - 1s 694ms/step - loss: 0.1470 - mae: 0.3560 - val_loss: 0.1457 - val_mae: 0.3526\n",
      "Epoch 58/70\n",
      "1/1 [==============================] - 1s 713ms/step - loss: 0.1470 - mae: 0.3560 - val_loss: 0.1457 - val_mae: 0.3526\n",
      "Epoch 59/70\n",
      "1/1 [==============================] - 1s 687ms/step - loss: 0.1470 - mae: 0.3560 - val_loss: 0.1457 - val_mae: 0.3526\n",
      "Epoch 60/70\n",
      "1/1 [==============================] - 1s 685ms/step - loss: 0.1470 - mae: 0.3560 - val_loss: 0.1457 - val_mae: 0.3526\n",
      "Epoch 61/70\n",
      "1/1 [==============================] - 1s 690ms/step - loss: 0.1470 - mae: 0.3560 - val_loss: 0.1457 - val_mae: 0.3526\n",
      "Epoch 62/70\n",
      "1/1 [==============================] - 1s 709ms/step - loss: 0.1470 - mae: 0.3560 - val_loss: 0.1457 - val_mae: 0.3526\n",
      "Epoch 63/70\n",
      "1/1 [==============================] - 1s 737ms/step - loss: 0.1470 - mae: 0.3560 - val_loss: 0.1457 - val_mae: 0.3526\n",
      "Epoch 64/70\n"
     ]
    },
    {
     "name": "stdout",
     "output_type": "stream",
     "text": [
      "1/1 [==============================] - 1s 726ms/step - loss: 0.1470 - mae: 0.3560 - val_loss: 0.1457 - val_mae: 0.3526\n",
      "Epoch 65/70\n",
      "1/1 [==============================] - 1s 728ms/step - loss: 0.1470 - mae: 0.3560 - val_loss: 0.1457 - val_mae: 0.3526\n",
      "Epoch 66/70\n",
      "1/1 [==============================] - 1s 658ms/step - loss: 0.1470 - mae: 0.3560 - val_loss: 0.1457 - val_mae: 0.3526\n",
      "Epoch 67/70\n",
      "1/1 [==============================] - 1s 726ms/step - loss: 0.1470 - mae: 0.3560 - val_loss: 0.1457 - val_mae: 0.3526\n",
      "Epoch 68/70\n",
      "1/1 [==============================] - 1s 646ms/step - loss: 0.1470 - mae: 0.3560 - val_loss: 0.1457 - val_mae: 0.3526\n",
      "Epoch 69/70\n",
      "1/1 [==============================] - 1s 660ms/step - loss: 0.1470 - mae: 0.3560 - val_loss: 0.1457 - val_mae: 0.3526\n",
      "Epoch 70/70\n",
      "1/1 [==============================] - 1s 700ms/step - loss: 0.1470 - mae: 0.3560 - val_loss: 0.1457 - val_mae: 0.3526\n"
     ]
    }
   ],
   "source": [
    "history = model.fit(train_data, y, epochs=70, batch_size = 128, verbose=1, validation_split=0.3)"
   ]
  },
  {
   "cell_type": "code",
   "execution_count": 77,
   "metadata": {},
   "outputs": [
    {
     "name": "stdout",
     "output_type": "stream",
     "text": [
      "(2, 3600)\n"
     ]
    },
    {
     "data": {
      "text/plain": [
       "array([[1.0074981e-28, 8.3253144e-30, 1.0000000e+00, 9.7263907e-12],\n",
       "       [0.0000000e+00, 0.0000000e+00, 1.0000000e+00, 2.8995980e-21]],\n",
       "      dtype=float32)"
      ]
     },
     "execution_count": 77,
     "metadata": {},
     "output_type": "execute_result"
    }
   ],
   "source": [
    "a = train_data[3:5]\n",
    "print(a.shape)\n",
    "yupi = model.predict(a)\n",
    "yupi[0][0]\n",
    "yupi"
   ]
  },
  {
   "cell_type": "code",
   "execution_count": 78,
   "metadata": {},
   "outputs": [
    {
     "name": "stdout",
     "output_type": "stream",
     "text": [
      "xmin : 6.044988779562375e-27\n",
      "ymin:  4.995188651649785e-28\n",
      "xmax : 60.0\n",
      "ymax:  5.835834419876118e-10\n",
      "60.0\n",
      "5.835834419876118e-10\n"
     ]
    },
    {
     "data": {
      "image/png": "[encoded data removed]",
      "text/plain": [
       "<Figure size 432x288 with 1 Axes>"
      ]
     },
     "metadata": {
      "needs_background": "light"
     },
     "output_type": "display_data"
    }
   ],
   "source": [
    "#Obtener el path de cada imágen en el dataset\n",
    "im_paths = list(paths.list_images('train/')) \n",
    "img1 = cv2.imread(im_paths[1])\n",
    "\n",
    "\n",
    "image=Image.open(im_paths[3])\n",
    "gray_image=image.convert('L')\n",
    "gray_image_array=np.asarray(gray_image)\n",
    "gray_image_array = cv2.resize(gray_image_array, (0,0), fx=0.1, fy=0.1)    # cambiamos el tamaño de la imagen \n",
    "fig,ax = plt.subplots(1)\n",
    "ax.imshow(gray_image_array,cmap='gray')   # mostramos la nueva imagen con su nuevo tamaño \n",
    "#print('hola: '  , gray_image_array.shape[0])\n",
    "xmin = yupi[0][0]*gray_image_array.shape[1]\n",
    "ymin = yupi[0][1]*gray_image_array.shape[1]\n",
    "xmax = yupi[0][2]*gray_image_array.shape[1]\n",
    "ymax = yupi[0][3]*gray_image_array.shape[1]\n",
    "rect = patches.Rectangle((xmin,ymin),xmax-xmin,ymax-ymin,linewidth=1,edgecolor='r',facecolor='none')  # rectangulo de las coordenadas \n",
    "print('xmin :' , xmin)\n",
    "print('ymin: ',ymin)\n",
    "print('xmax :' , xmax)\n",
    "print('ymax: ',ymax)\n",
    "print(xmax-xmin)\n",
    "print(ymax-ymin)\n",
    "ax.add_patch(rect)\n",
    "plt.show()\n",
    "\n"
   ]
  },
  {
   "cell_type": "code",
   "execution_count": null,
   "metadata": {},
   "outputs": [],
   "source": []
  }
 ],
 "metadata": {
  "kernelspec": {
   "display_name": "Python 3",
   "language": "python",
   "name": "python3"
  },
  "language_info": {
   "codemirror_mode": {
    "name": "ipython",
    "version": 3
   },
   "file_extension": ".py",
   "mimetype": "text/x-python",
   "name": "python",
   "nbconvert_exporter": "python",
   "pygments_lexer": "ipython3",
   "version": "3.8.5"
  }
 },
 "nbformat": 4,
 "nbformat_minor": 2
}
