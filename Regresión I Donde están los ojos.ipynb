{
 "cells": [
  {
   "cell_type": "markdown",
   "metadata": {},
   "source": [
    "# Regresión I: ¿Donde estan los ojos?\n",
    "\n",
    "Muchos de los sistemas de reconocimiento de personas por medio de imagenes utilizan la ubicación de puntos importantes en la cara, con el objetivo de identificar la ubicación del rostro. Algunos puntos importantes son los ojos, la nariz y la boca, a partir de ellos es posible definir las coordenadas entre las cuales se encuentra ubicada la cara de la persona. El profesor Alexander siempre ha tenido una gran fascinadción por estos sistemas, y dado que sus estudiantes ya saben como trabajar con redes neuronales, él ha decidido que ellos realicen un sistemas de identificación de la ubicación de los ojos a partir de imagenes.\n",
    "\n",
    "Para la realización de este proyecto el estudiante debera:\n",
    "\n",
    "1. Crear una base de datos con fotografias donde diferentes personas, y en cada una de estas se debe generar un elemento que identifique la ubicación de los ojos. Aqui debe tener en cuenta dos cosas:\n",
    "    * Tenga en cuenta que una red aprende con base en la información que le proporcionemos, asi que al crear la base de datos tenga en cuenta todas las posibilidades que se imaginen de como podrian estar esas fotos.\n",
    "    * Si tenemos imagenes muy grandes esto requerira de una red muy grande que puede tardar mucho tiempo en entrenar. Tenga en cuenta esto por si es necesario procesar las imagenes antes de ingresarlas a la red.   \n",
    "2. Definir las arquitecturas de red que debe probar.\n",
    "3. Escoger la red que mejor se desempeñe.\n",
    "4. Evaluar el rendimiento de la red.\n",
    "\n",
    "\n",
    "Tenga en cuenta que todo el procedimiento debe ser lo mas amigable para probar. Es decir si el profesor Alexander quiere probar una foto, entonces él solo deberia ingresar la foto en una función la cual se encargue de hacer todo el procesamiento y proporcionar como salida si la persona tiene o no tapabocas.\n",
    "\n",
    "Además el profesor quiere que contesten las siguientes preguntas:\n",
    "\n",
    "1. ¿Qué puede concluir del comportamiento de la red y los datos proporcionados?\n",
    "2. ¿Qué criterio utilizo para seleccionar la arquitectura de la red?\n",
    "3. ¿Tiene la red el comportamiento esperado?, sino, ¿A qué cree que se debe esto?\n",
    "4. ¿Qué le mejoraria al modelo que usted diseño?, ¿Cómo implementaría esas mejoras?\n",
    "\n",
    "## Qué se debe entregar:\n",
    "\n",
    "Par ala entrega del proyecto deben porporcionar:\n",
    "\n",
    "1. La base de datos generada.\n",
    "2. Un notebook de Jupyter donde presentan todo el pipeline para el entrenamiento de la red. Cada parte debe ser explicada.\n",
    "3. El notebook debe incluir una función que permita ingresar una muestra de entrada y se proporcione la salida, sin mas pasos intermedios. Por lo tanto en esta función se debe tener en cuenta el acondicionamiento de los datos, antes de ser introducidos en la red neuronal par arealizar las predicciones.\n",
    "4. El notebook debe incluir las respuestas a las preguntas planteadas."
   ]
  },
  {
   "cell_type": "code",
   "execution_count": 63,
   "metadata": {},
   "outputs": [],
   "source": [
    "import numpy as np           # Esta libreria se utiliza para realizar operaciones matemáticas y para manejar arreglos\n",
    "from xml.dom import minidom  # Esta libreria se utiliza para leer archivos xml\n",
    "from imutils import paths    # Esta libreria se utiliza para ni mondada porque no funciona con xml\n",
    "import glob                  # Esta libreria se importa para guardar todo el conjunto de archivos xml\n",
    "import cv2                   # Esta libreria \n",
    "import matplotlib.pyplot as plt\n",
    "import matplotlib.image as img # Esta libreria sirve para transformar las imagines en grises FALLO 2\n",
    "from skimage import io       # Esta libreria sirve para transformar las imagines en grises FALLO 1\n",
    "from PIL import Image        # Esta libreria sirve para transformar las imagines en grises FALLO 3\n",
    "import matplotlib.patches as patches\n",
    "from keras import models\n",
    "from keras import layers"
   ]
  },
  {
   "cell_type": "markdown",
   "metadata": {},
   "source": [
    "Vamos a normalizar tanto los datos de entrada que son las imagenes como los datos de salida (y) que son las posiciones de los ojos y luego se va a modificar el tamaño de las imagenes con resample image."
   ]
  },
  {
   "cell_type": "code",
   "execution_count": 59,
   "metadata": {},
   "outputs": [
    {
     "name": "stdout",
     "output_type": "stream",
     "text": [
      "Dimensiones de y: (70, 4)\n"
     ]
    }
   ],
   "source": [
    "'''\n",
    "De esta forma se leen los archivos xml  de esta dirección\n",
    "doc = minidom.parse('C:/Users/HOGAR (JOSE)/Desktop/U/2021-2/Aprendizaje automático de Maquinas/Tareas/Proyecto II final/Donde estan los ojos/train/real_00001.xml')\n",
    "\n",
    "De esta forma se leen los archivos de una manera más simple\n",
    "doc = minidom.parse('train_labels/real_00001.xml')\n",
    "'''\n",
    "\n",
    "# Guarda todos los archivos xml en una lista\n",
    "xml_list = []\n",
    "for filename in glob.glob('train_labels/*.xml'): \n",
    "    im = minidom.parse(filename)\n",
    "    xml_list.append(im)\n",
    "\n",
    "# Se crea una lista con los valores de las y esperada\n",
    "y = []\n",
    "for xml in xml_list:\n",
    "    y_1 = []\n",
    "    xmin = xml.getElementsByTagName(\"xmin\")[0]\n",
    "    y_1.append(int(xmin.firstChild.data)/10)    # Se normalizan los datos dividiendolos por el máximo (600)\n",
    "    ymin = xml.getElementsByTagName(\"ymin\")[0]\n",
    "    y_1.append(int(ymin.firstChild.data)/10)\n",
    "    xmax = xml.getElementsByTagName(\"xmax\")[0]\n",
    "    y_1.append(int(xmax.firstChild.data)/10)\n",
    "    ymax = xml.getElementsByTagName(\"ymax\")[0]\n",
    "    y_1.append(int(ymax.firstChild.data)/10)\n",
    "    y.append(y_1)\n",
    "    \n",
    "# Se transforma la lista en array\n",
    "y = np.array(y)\n",
    "print('Dimensiones de y:',y.shape)"
   ]
  },
  {
   "cell_type": "markdown",
   "metadata": {},
   "source": [
    "Dimensiones de y: (70, 4)\n",
    "Ahora se leeran las imagenes de entrenamiento y se transformaran a escala de grises.\n"
   ]
  },
  {
   "cell_type": "code",
   "execution_count": 77,
   "metadata": {},
   "outputs": [
    {
     "name": "stdout",
     "output_type": "stream",
     "text": [
      "3600\n"
     ]
    }
   ],
   "source": [
    "#Obtener el path de cada imágen en el dataset\n",
    "im_paths = list(paths.list_images('train/')) \n",
    "def train_func(path_list):\n",
    "    train_list=[]\n",
    "    for m in path_list:\n",
    "        image=Image.open(m)   # abrimoslaimagen a travez del path \n",
    "        gray_image=image.convert('L')    # loconvertimosa escala de grises \n",
    "        gray_image_array=np.asarray(gray_image)   # imagen a tipo array\n",
    "        gray_image_array = gray_image_array.astype('float32')/255  # normalizamos   \n",
    "        gray_image_array = cv2.resize(gray_image_array, (0,0), fx=0.1, fy=0.1)    # cambiamos el tamaño de la imagen \n",
    "        train_list.append(gray_image_array)\n",
    "    train_list=np.array(train_list)\n",
    "    return train_list\n",
    "\n",
    "train_data=train_func(im_paths)\n",
    "train_data=train_data.reshape((train_data.shape[0],60*60))\n",
    "print(train_data.shape[1])"
   ]
  },
  {
   "cell_type": "markdown",
   "metadata": {},
   "source": [
    "Cramos la red neuronal para regresion \n"
   ]
  },
  {
   "cell_type": "code",
   "execution_count": 80,
   "metadata": {},
   "outputs": [],
   "source": [
    "model = models.Sequential()\n",
    "model.add(layers.Dense(3000,activation = 'relu',         #Funcion de activacion relu\n",
    "                       input_shape=(train_data.shape[1],))) # numeor de variables de entrada \n",
    "model.add(layers.Dense(1000,activation = 'relu'))\n",
    "model.add(layers.Dense(500,activation = 'relu'))\n",
    "model.add(layers.Dense(100,activation = 'relu'))\n",
    "model.add(layers.Dense(50,activation = 'relu'))\n",
    "model.add(layers.Dense(4)) # salida una neurona \n",
    "model.compile(optimizer='rmsprop', loss='mse', metrics=['mae'])\n",
    "# optimizer: puede ser adam que muy bueno \n",
    "# mse: error cuadratico medio porque es de regresion \n",
    "# mae: error minimo absoluto promedio de la resta del abs entre y estimado y observado , puede ser tambien mse"
   ]
  },
  {
   "cell_type": "code",
   "execution_count": 83,
   "metadata": {},
   "outputs": [
    {
     "name": "stdout",
     "output_type": "stream",
     "text": [
      "Epoch 1/70\n",
      "1/1 [==============================] - 0s 350ms/step - loss: 65.4420 - mae: 6.0859 - val_loss: 62.4797 - val_mae: 6.4490\n",
      "Epoch 2/70\n",
      "1/1 [==============================] - 0s 335ms/step - loss: 71.0618 - mae: 6.9242 - val_loss: 153.4456 - val_mae: 9.9093\n",
      "Epoch 3/70\n",
      "1/1 [==============================] - 0s 416ms/step - loss: 80.7876 - mae: 6.8436 - val_loss: 107.2660 - val_mae: 8.4607\n",
      "Epoch 4/70\n",
      "1/1 [==============================] - 0s 465ms/step - loss: 133.5104 - mae: 9.8565 - val_loss: 116.0547 - val_mae: 8.5418\n",
      "Epoch 5/70\n",
      "1/1 [==============================] - 0s 498ms/step - loss: 68.5828 - mae: 6.2374 - val_loss: 68.3344 - val_mae: 6.6763\n",
      "Epoch 6/70\n",
      "1/1 [==============================] - 0s 391ms/step - loss: 80.6788 - mae: 7.4264 - val_loss: 147.0325 - val_mae: 9.7530\n",
      "Epoch 7/70\n",
      "1/1 [==============================] - 0s 459ms/step - loss: 76.6715 - mae: 6.7008 - val_loss: 96.5941 - val_mae: 8.0451\n",
      "Epoch 8/70\n",
      "1/1 [==============================] - 0s 383ms/step - loss: 119.5977 - mae: 9.3419 - val_loss: 117.3881 - val_mae: 8.6227\n",
      "Epoch 9/70\n",
      "1/1 [==============================] - 0s 374ms/step - loss: 64.5828 - mae: 6.0508 - val_loss: 67.2875 - val_mae: 6.6004\n",
      "Epoch 10/70\n",
      "1/1 [==============================] - 0s 389ms/step - loss: 78.6657 - mae: 7.3627 - val_loss: 144.2448 - val_mae: 9.6202\n",
      "Epoch 11/70\n",
      "1/1 [==============================] - 0s 485ms/step - loss: 72.5650 - mae: 6.4292 - val_loss: 91.7069 - val_mae: 7.7244\n",
      "Epoch 12/70\n",
      "1/1 [==============================] - 0s 405ms/step - loss: 111.2337 - mae: 8.8784 - val_loss: 123.6965 - val_mae: 8.8419\n",
      "Epoch 13/70\n",
      "1/1 [==============================] - 0s 373ms/step - loss: 65.9914 - mae: 6.0580 - val_loss: 69.9468 - val_mae: 6.6698\n",
      "Epoch 14/70\n",
      "1/1 [==============================] - 1s 521ms/step - loss: 81.8204 - mae: 7.5251 - val_loss: 157.5628 - val_mae: 10.1782\n",
      "Epoch 15/70\n",
      "1/1 [==============================] - 0s 420ms/step - loss: 76.0842 - mae: 6.7030 - val_loss: 102.5531 - val_mae: 8.3101\n",
      "Epoch 16/70\n",
      "1/1 [==============================] - 0s 358ms/step - loss: 123.4399 - mae: 9.5446 - val_loss: 115.2172 - val_mae: 8.6364\n",
      "Epoch 17/70\n",
      "1/1 [==============================] - 0s 348ms/step - loss: 63.4326 - mae: 5.9945 - val_loss: 66.4847 - val_mae: 6.5868\n",
      "Epoch 18/70\n",
      "1/1 [==============================] - 0s 348ms/step - loss: 72.3539 - mae: 7.0320 - val_loss: 135.6000 - val_mae: 9.3641\n",
      "Epoch 19/70\n",
      "1/1 [==============================] - 0s 354ms/step - loss: 65.4305 - mae: 6.1629 - val_loss: 82.4286 - val_mae: 7.3266\n",
      "Epoch 20/70\n",
      "1/1 [==============================] - 0s 349ms/step - loss: 98.1837 - mae: 8.3504 - val_loss: 137.4396 - val_mae: 9.3510\n",
      "Epoch 21/70\n",
      "1/1 [==============================] - 0s 403ms/step - loss: 67.7371 - mae: 6.1774 - val_loss: 79.6009 - val_mae: 7.1362\n",
      "Epoch 22/70\n",
      "1/1 [==============================] - 0s 395ms/step - loss: 93.5335 - mae: 8.1301 - val_loss: 148.4359 - val_mae: 9.8268\n",
      "Epoch 23/70\n",
      "1/1 [==============================] - 0s 366ms/step - loss: 68.5276 - mae: 6.3299 - val_loss: 85.6047 - val_mae: 7.4618\n",
      "Epoch 24/70\n",
      "1/1 [==============================] - 0s 341ms/step - loss: 101.2909 - mae: 8.5323 - val_loss: 123.9689 - val_mae: 8.9041\n",
      "Epoch 25/70\n",
      "1/1 [==============================] - 0s 342ms/step - loss: 61.2356 - mae: 5.8668 - val_loss: 67.5351 - val_mae: 6.5369\n",
      "Epoch 26/70\n",
      "1/1 [==============================] - 0s 493ms/step - loss: 74.6044 - mae: 7.1931 - val_loss: 147.1577 - val_mae: 9.8026\n",
      "Epoch 27/70\n",
      "1/1 [==============================] - 0s 457ms/step - loss: 64.8034 - mae: 6.1738 - val_loss: 83.2394 - val_mae: 7.3584\n",
      "Epoch 28/70\n",
      "1/1 [==============================] - 0s 353ms/step - loss: 96.8941 - mae: 8.3279 - val_loss: 129.6576 - val_mae: 9.1354\n",
      "Epoch 29/70\n",
      "1/1 [==============================] - 0s 344ms/step - loss: 60.9548 - mae: 5.8703 - val_loss: 70.1292 - val_mae: 6.6357\n",
      "Epoch 30/70\n",
      "1/1 [==============================] - 0s 434ms/step - loss: 77.5413 - mae: 7.3536 - val_loss: 150.9914 - val_mae: 9.9522\n",
      "Epoch 31/70\n",
      "1/1 [==============================] - 0s 328ms/step - loss: 64.0074 - mae: 6.1373 - val_loss: 83.2682 - val_mae: 7.3580\n",
      "Epoch 32/70\n",
      "1/1 [==============================] - 0s 344ms/step - loss: 95.9545 - mae: 8.2603 - val_loss: 125.7834 - val_mae: 8.9623\n",
      "Epoch 33/70\n",
      "1/1 [==============================] - 0s 484ms/step - loss: 59.0016 - mae: 5.7533 - val_loss: 67.6895 - val_mae: 6.5081\n",
      "Epoch 34/70\n",
      "1/1 [==============================] - 0s 335ms/step - loss: 71.9761 - mae: 7.0694 - val_loss: 153.7176 - val_mae: 10.0544\n",
      "Epoch 35/70\n",
      "1/1 [==============================] - 0s 351ms/step - loss: 62.6069 - mae: 6.0802 - val_loss: 84.9024 - val_mae: 7.4131\n",
      "Epoch 36/70\n",
      "1/1 [==============================] - 0s 340ms/step - loss: 97.2059 - mae: 8.3246 - val_loss: 124.7708 - val_mae: 8.9620\n",
      "Epoch 37/70\n",
      "1/1 [==============================] - 0s 388ms/step - loss: 58.0434 - mae: 5.6929 - val_loss: 67.8482 - val_mae: 6.5039\n",
      "Epoch 38/70\n",
      "1/1 [==============================] - 0s 357ms/step - loss: 70.7514 - mae: 7.0066 - val_loss: 155.8310 - val_mae: 10.1445\n",
      "Epoch 39/70\n",
      "1/1 [==============================] - 0s 375ms/step - loss: 63.4011 - mae: 6.1456 - val_loss: 86.6202 - val_mae: 7.4911\n",
      "Epoch 40/70\n",
      "1/1 [==============================] - 0s 403ms/step - loss: 98.5523 - mae: 8.4181 - val_loss: 128.4679 - val_mae: 9.0948\n",
      "Epoch 41/70\n",
      "1/1 [==============================] - 0s 389ms/step - loss: 56.9101 - mae: 5.6806 - val_loss: 67.7603 - val_mae: 6.5213\n",
      "Epoch 42/70\n",
      "1/1 [==============================] - 0s 338ms/step - loss: 70.2538 - mae: 6.9964 - val_loss: 159.2561 - val_mae: 10.1949\n",
      "Epoch 43/70\n",
      "1/1 [==============================] - 0s 351ms/step - loss: 62.3595 - mae: 6.1029 - val_loss: 85.4012 - val_mae: 7.4313\n",
      "Epoch 44/70\n",
      "1/1 [==============================] - 0s 459ms/step - loss: 96.9212 - mae: 8.3069 - val_loss: 134.2178 - val_mae: 9.3614\n",
      "Epoch 45/70\n",
      "1/1 [==============================] - 0s 426ms/step - loss: 59.2143 - mae: 5.8516 - val_loss: 73.4999 - val_mae: 6.7380\n",
      "Epoch 46/70\n",
      "1/1 [==============================] - 0s 344ms/step - loss: 78.3432 - mae: 7.4440 - val_loss: 147.8020 - val_mae: 9.8513\n",
      "Epoch 47/70\n",
      "1/1 [==============================] - 0s 333ms/step - loss: 58.5613 - mae: 5.8735 - val_loss: 76.1880 - val_mae: 6.9479\n",
      "Epoch 48/70\n",
      "1/1 [==============================] - 0s 368ms/step - loss: 83.1073 - mae: 7.6702 - val_loss: 136.9993 - val_mae: 9.4591\n",
      "Epoch 49/70\n",
      "1/1 [==============================] - 0s 332ms/step - loss: 56.0903 - mae: 5.6886 - val_loss: 70.2271 - val_mae: 6.6057\n",
      "Epoch 50/70\n",
      "1/1 [==============================] - 0s 354ms/step - loss: 72.9313 - mae: 7.1548 - val_loss: 159.3331 - val_mae: 10.2535\n",
      "Epoch 51/70\n",
      "1/1 [==============================] - 0s 471ms/step - loss: 58.6287 - mae: 5.9629 - val_loss: 80.3114 - val_mae: 7.1729\n",
      "Epoch 52/70\n",
      "1/1 [==============================] - 1s 513ms/step - loss: 88.4196 - mae: 7.9598 - val_loss: 130.6532 - val_mae: 9.2385\n",
      "Epoch 53/70\n",
      "1/1 [==============================] - 0s 413ms/step - loss: 53.6857 - mae: 5.5666 - val_loss: 67.5775 - val_mae: 6.5047\n",
      "Epoch 54/70\n",
      "1/1 [==============================] - 0s 365ms/step - loss: 67.0279 - mae: 6.8174 - val_loss: 148.6384 - val_mae: 9.9100\n",
      "Epoch 55/70\n",
      "1/1 [==============================] - 0s 317ms/step - loss: 54.1211 - mae: 5.7016 - val_loss: 74.2064 - val_mae: 6.8707\n",
      "Epoch 56/70\n",
      "1/1 [==============================] - 0s 400ms/step - loss: 78.1392 - mae: 7.4366 - val_loss: 140.1191 - val_mae: 9.5810\n",
      "Epoch 57/70\n",
      "1/1 [==============================] - 0s 370ms/step - loss: 54.3217 - mae: 5.6219 - val_loss: 71.6435 - val_mae: 6.6948\n",
      "Epoch 58/70\n",
      "1/1 [==============================] - 0s 368ms/step - loss: 73.0565 - mae: 7.1529 - val_loss: 150.3640 - val_mae: 9.9125\n",
      "Epoch 59/70\n",
      "1/1 [==============================] - 0s 283ms/step - loss: 54.8858 - mae: 5.6927 - val_loss: 75.7061 - val_mae: 6.9203\n",
      "Epoch 60/70\n",
      "1/1 [==============================] - 0s 319ms/step - loss: 80.2745 - mae: 7.5362 - val_loss: 149.2971 - val_mae: 9.8577\n",
      "Epoch 61/70\n",
      "1/1 [==============================] - 0s 328ms/step - loss: 57.9651 - mae: 5.7839 - val_loss: 78.5983 - val_mae: 7.0380\n",
      "Epoch 62/70\n",
      "1/1 [==============================] - 0s 294ms/step - loss: 83.1689 - mae: 7.6680 - val_loss: 148.6483 - val_mae: 9.8885\n",
      "Epoch 63/70\n",
      "1/1 [==============================] - 0s 300ms/step - loss: 53.0788 - mae: 5.5944 - val_loss: 71.5137 - val_mae: 6.6904\n",
      "Epoch 64/70\n",
      "1/1 [==============================] - 0s 314ms/step - loss: 72.4805 - mae: 7.1207 - val_loss: 143.4990 - val_mae: 9.7243\n",
      "Epoch 65/70\n",
      "1/1 [==============================] - 0s 284ms/step - loss: 51.7798 - mae: 5.5143 - val_loss: 70.5596 - val_mae: 6.6484\n",
      "Epoch 66/70\n",
      "1/1 [==============================] - 0s 311ms/step - loss: 70.4305 - mae: 7.0436 - val_loss: 149.2607 - val_mae: 9.9159\n",
      "Epoch 67/70\n",
      "1/1 [==============================] - 0s 307ms/step - loss: 52.1280 - mae: 5.5662 - val_loss: 72.6716 - val_mae: 6.7838\n",
      "Epoch 68/70\n",
      "1/1 [==============================] - 0s 347ms/step - loss: 74.1832 - mae: 7.2482 - val_loss: 145.2887 - val_mae: 9.7392\n",
      "Epoch 69/70\n",
      "1/1 [==============================] - 0s 316ms/step - loss: 51.2640 - mae: 5.4842 - val_loss: 69.3179 - val_mae: 6.5753\n",
      "Epoch 70/70\n",
      "1/1 [==============================] - 0s 327ms/step - loss: 68.0740 - mae: 6.9157 - val_loss: 154.1184 - val_mae: 10.0465\n"
     ]
    }
   ],
   "source": [
    "history = model.fit(train_data, y, epochs=70, batch_size = 128, verbose=1, validation_split=0.3)"
   ]
  },
  {
   "cell_type": "code",
   "execution_count": 84,
   "metadata": {},
   "outputs": [
    {
     "data": {
      "text/plain": [
       "<matplotlib.legend.Legend at 0x274c8440088>"
      ]
     },
     "execution_count": 84,
     "metadata": {},
     "output_type": "execute_result"
    },
    {
     "data": {
      "image/png": "[encoded data removed]",
      "text/plain": [
       "<Figure size 432x288 with 1 Axes>"
      ]
     },
     "metadata": {
      "needs_background": "light"
     },
     "output_type": "display_data"
    }
   ],
   "source": [
    "plt.figure\n",
    "plt.plot(history.history['mae'])\n",
    "plt.plot(history.history['val_mae'])\n",
    "plt.legend(['train','test'])"
   ]
  },
  {
   "cell_type": "markdown",
   "metadata": {},
   "source": [
    "Red en acción "
   ]
  },
  {
   "cell_type": "code",
   "execution_count": 87,
   "metadata": {},
   "outputs": [
    {
     "data": {
      "text/plain": [
       "(3600,)"
      ]
     },
     "execution_count": 87,
     "metadata": {},
     "output_type": "execute_result"
    }
   ],
   "source": [
    "a = train_data[2]\n",
    "a.shape\n",
    "#def norm_img(imagen):\n",
    "#predeict = model.predict(train_data[2])    "
   ]
  },
  {
   "cell_type": "code",
   "execution_count": 91,
   "metadata": {},
   "outputs": [
    {
     "name": "stdout",
     "output_type": "stream",
     "text": [
      "5350250.10547371\n"
     ]
    }
   ],
   "source": []
  },
  {
   "cell_type": "code",
   "execution_count": null,
   "metadata": {},
   "outputs": [],
   "source": []
  }
 ],
 "metadata": {
  "kernelspec": {
   "display_name": "Python 3",
   "language": "python",
   "name": "python3"
  },
  "language_info": {
   "codemirror_mode": {
    "name": "ipython",
    "version": 3
   },
   "file_extension": ".py",
   "mimetype": "text/x-python",
   "name": "python",
   "nbconvert_exporter": "python",
   "pygments_lexer": "ipython3",
   "version": "3.7.4"
  }
 },
 "nbformat": 4,
 "nbformat_minor": 2
}
